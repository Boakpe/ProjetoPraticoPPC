{
 "cells": [
  {
   "cell_type": "markdown",
   "metadata": {},
   "source": [
    "# Geração das métricas e gráficos para o programa Mandelbrot"
   ]
  },
  {
   "cell_type": "code",
   "execution_count": 1,
   "metadata": {},
   "outputs": [],
   "source": [
    "import subprocess\n",
    "import matplotlib.pyplot as plt\n",
    "import numpy as np\n",
    "import pandas as pd"
   ]
  },
  {
   "cell_type": "markdown",
   "metadata": {},
   "source": [
    "### Define os valores de N e o número de threads que deseja testar"
   ]
  },
  {
   "cell_type": "code",
   "execution_count": 2,
   "metadata": {},
   "outputs": [],
   "source": [
    "valores_de_N = [100, 200, 400, 800]\n",
    "num_threads = [1, 2, 4, 8, 12, 16]"
   ]
  },
  {
   "cell_type": "markdown",
   "metadata": {},
   "source": [
    "### Cria uma lista de listas para armazenar os tempos, speedup, a efiência e a  confiança"
   ]
  },
  {
   "cell_type": "code",
   "execution_count": 3,
   "metadata": {},
   "outputs": [],
   "source": [
    "times = []\n",
    "speedup = []\n",
    "confidences_95 = []\n",
    "efficiency = []\n",
    "for _ in valores_de_N:\n",
    "    times.append([0] * len(num_threads))\n",
    "    speedup.append([0] * len(num_threads))\n",
    "    confidences_95.append([0] * len(num_threads))\n",
    "    efficiency.append([0] * len(num_threads))"
   ]
  },
  {
   "cell_type": "markdown",
   "metadata": {},
   "source": [
    "### Executa em loop o código do crivo e armazena os valores na lista \"times\""
   ]
  },
  {
   "cell_type": "code",
   "execution_count": 4,
   "metadata": {},
   "outputs": [
    {
     "ename": "KeyboardInterrupt",
     "evalue": "",
     "output_type": "error",
     "traceback": [
      "\u001b[0;31m---------------------------------------------------------------------------\u001b[0m",
      "\u001b[0;31mKeyboardInterrupt\u001b[0m                         Traceback (most recent call last)",
      "Cell \u001b[0;32mIn[4], line 7\u001b[0m\n\u001b[1;32m      5\u001b[0m commands \u001b[38;5;241m=\u001b[39m [\u001b[38;5;124m\"\u001b[39m\u001b[38;5;124m/usr/bin/time\u001b[39m\u001b[38;5;124m\"\u001b[39m, \u001b[38;5;124m\"\u001b[39m\u001b[38;5;124m-f\u001b[39m\u001b[38;5;124m\"\u001b[39m, \u001b[38;5;124m\"\u001b[39m\u001b[38;5;132;01m%e\u001b[39;00m\u001b[38;5;124m\"\u001b[39m, \u001b[38;5;124m\"\u001b[39m\u001b[38;5;124m./codes/mandelbrotomp.o\u001b[39m\u001b[38;5;124m\"\u001b[39m, \u001b[38;5;28mstr\u001b[39m(num)] \u001b[38;5;241m+\u001b[39m [\u001b[38;5;28mstr\u001b[39m(N) \u001b[38;5;28;01mfor\u001b[39;00m _ \u001b[38;5;129;01min\u001b[39;00m \u001b[38;5;28mrange\u001b[39m(\u001b[38;5;241m3\u001b[39m)]\n\u001b[1;32m      6\u001b[0m process \u001b[38;5;241m=\u001b[39m subprocess\u001b[38;5;241m.\u001b[39mPopen(commands, stdout\u001b[38;5;241m=\u001b[39msubprocess\u001b[38;5;241m.\u001b[39mPIPE, stderr\u001b[38;5;241m=\u001b[39msubprocess\u001b[38;5;241m.\u001b[39mSTDOUT)\n\u001b[0;32m----> 7\u001b[0m output \u001b[38;5;241m=\u001b[39m \u001b[43mprocess\u001b[49m\u001b[38;5;241;43m.\u001b[39;49m\u001b[43mcommunicate\u001b[49m\u001b[43m(\u001b[49m\u001b[43m)\u001b[49m[\u001b[38;5;241m0\u001b[39m]\n\u001b[1;32m      8\u001b[0m output \u001b[38;5;241m=\u001b[39m output\u001b[38;5;241m.\u001b[39mdecode(\u001b[38;5;124m'\u001b[39m\u001b[38;5;124mutf-8\u001b[39m\u001b[38;5;124m'\u001b[39m)\u001b[38;5;241m.\u001b[39mstrip()\n\u001b[1;32m      9\u001b[0m \u001b[38;5;66;03m#print(output)\u001b[39;00m\n",
      "File \u001b[0;32m/usr/lib/python3.10/subprocess.py:1141\u001b[0m, in \u001b[0;36mPopen.communicate\u001b[0;34m(self, input, timeout)\u001b[0m\n\u001b[1;32m   1139\u001b[0m     \u001b[38;5;28mself\u001b[39m\u001b[38;5;241m.\u001b[39m_stdin_write(\u001b[38;5;28minput\u001b[39m)\n\u001b[1;32m   1140\u001b[0m \u001b[38;5;28;01melif\u001b[39;00m \u001b[38;5;28mself\u001b[39m\u001b[38;5;241m.\u001b[39mstdout:\n\u001b[0;32m-> 1141\u001b[0m     stdout \u001b[38;5;241m=\u001b[39m \u001b[38;5;28;43mself\u001b[39;49m\u001b[38;5;241;43m.\u001b[39;49m\u001b[43mstdout\u001b[49m\u001b[38;5;241;43m.\u001b[39;49m\u001b[43mread\u001b[49m\u001b[43m(\u001b[49m\u001b[43m)\u001b[49m\n\u001b[1;32m   1142\u001b[0m     \u001b[38;5;28mself\u001b[39m\u001b[38;5;241m.\u001b[39mstdout\u001b[38;5;241m.\u001b[39mclose()\n\u001b[1;32m   1143\u001b[0m \u001b[38;5;28;01melif\u001b[39;00m \u001b[38;5;28mself\u001b[39m\u001b[38;5;241m.\u001b[39mstderr:\n",
      "\u001b[0;31mKeyboardInterrupt\u001b[0m: "
     ]
    }
   ],
   "source": [
    "for i, N in enumerate(valores_de_N):\n",
    "    for j, num in enumerate(num_threads):\n",
    "        execution_times = []  # Lista para armazenar os tempos de 10 execuções\n",
    "        for k in range(10):  # Realize 10 execuções\n",
    "            commands = [\"/usr/bin/time\", \"-f\", \"%e\", \"./codes/mandelbrotomp.o\", str(num)] + [str(N) for _ in range(3)]\n",
    "            process = subprocess.Popen(commands, stdout=subprocess.PIPE, stderr=subprocess.STDOUT)\n",
    "            output = process.communicate()[0]\n",
    "            output = output.decode('utf-8').strip()\n",
    "            #print(output)\n",
    "            execution_times.append(float(output))  # Armazene o tempo em cada execução\n",
    "        # Calcule a média dos tempos das 10 execuções\n",
    "        avg_time = sum(execution_times) / 10\n",
    "        times[i][j] = avg_time\n",
    "        # 95% de confiança\n",
    "        std_dev = np.std(execution_times)\n",
    "        confidence = 2.262 * std_dev / np.sqrt(10)\n",
    "        confidences_95[i][j] = confidence"
   ]
  },
  {
   "cell_type": "markdown",
   "metadata": {},
   "source": [
    "### Calcula o speedup"
   ]
  },
  {
   "cell_type": "code",
   "execution_count": 48,
   "metadata": {},
   "outputs": [],
   "source": [
    "for i in range(len(valores_de_N)):\n",
    "    for j in range(len(num_threads)):\n",
    "        if times[i][j] == 0:\n",
    "            speedup[i][j] = 0\n",
    "        else:\n",
    "            speedup[i][j] = times[i][0] / times[i][j]"
   ]
  },
  {
   "cell_type": "markdown",
   "metadata": {},
   "source": [
    "### Calcula a efiência"
   ]
  },
  {
   "cell_type": "code",
   "execution_count": 49,
   "metadata": {},
   "outputs": [],
   "source": [
    "for i in range(len(valores_de_N)):\n",
    "    for j in range(len(num_threads)):\n",
    "        if times[i][j] == 0:\n",
    "            efficiency[i][j] = 0\n",
    "        else:\n",
    "            efficiency[i][j] = speedup[i][j] / num_threads[j]"
   ]
  },
  {
   "cell_type": "markdown",
   "metadata": {},
   "source": [
    "### Gera os gráficos"
   ]
  },
  {
   "cell_type": "code",
   "execution_count": 51,
   "metadata": {},
   "outputs": [],
   "source": [
    "for i, N in enumerate(valores_de_N):\n",
    "    # Plota o gráfico de tempos\n",
    "    plt.figure()\n",
    "    plt.bar(num_threads, times[i])\n",
    "    plt.xlabel('Número de threads')\n",
    "    plt.ylabel('Tempo (s)')\n",
    "    plt.title(f'Tempo de execução para N = {N}')\n",
    "    \n",
    "    # Define os valores do eixo x para [1, 2, 4, 8]\n",
    "    plt.xticks(num_threads)\n",
    "\n",
    "    plt.savefig(f'metrics/omp/times/time_{N}.png')\n",
    "\n",
    "    # Fecha a figura após salvá-la\n",
    "    plt.close()\n",
    "\n",
    "    # Plota o gráfico de speedup\n",
    "    plt.figure()\n",
    "    plt.bar(num_threads, speedup[i])\n",
    "    plt.xlabel('Número de threads')\n",
    "    plt.ylabel('Speedup')\n",
    "    plt.title(f'Speedup para N = {N}')\n",
    "    \n",
    "    # Define os valores do eixo x para [1, 2, 4, 8]\n",
    "    plt.xticks(num_threads)\n",
    "\n",
    "    plt.savefig(f'metrics/omp/speedups/speedup_{N}.png')\n",
    "\n",
    "    # Fecha a figura após salvá-la\n",
    "    plt.close()\n",
    "\n",
    "    # Plota o gráfico de eficiência\n",
    "    plt.figure()\n",
    "    plt.bar(num_threads, efficiency[i])\n",
    "    plt.xlabel('Número de threads')\n",
    "    plt.ylabel('Eficiência')\n",
    "    plt.title(f'Eficiência para N = {N}')\n",
    "\n",
    "    # Define os valores do eixo x para [1, 2, 4, 8]\n",
    "    plt.xticks(num_threads)\n",
    "\n",
    "    plt.savefig(f'metrics/omp/efficiencies/efficiency_{N}.png')\n",
    "\n",
    "    # Fecha a figura após salvá-la\n",
    "    plt.close()\n",
    "\n",
    "    # Plota o gráfico de confiança\n",
    "    plt.figure()\n",
    "    plt.bar(num_threads, confidences_95[i])\n",
    "    plt.xlabel('Número de threads')\n",
    "    plt.ylabel('Confiança')\n",
    "    plt.title(f'Confiança para N = {N}')\n",
    "    \n",
    "    # Define os valores do eixo x para [1, 2, 4, 8]\n",
    "    plt.xticks(num_threads)\n",
    "\n",
    "    plt.savefig(f'metrics/omp/confidences/confidence_{N}.png')\n",
    "\n",
    "    # Fecha a figura após salvá-la\n",
    "    plt.close()\n"
   ]
  }
 ],
 "metadata": {
  "kernelspec": {
   "display_name": "Python 3",
   "language": "python",
   "name": "python3"
  },
  "language_info": {
   "codemirror_mode": {
    "name": "ipython",
    "version": 3
   },
   "file_extension": ".py",
   "mimetype": "text/x-python",
   "name": "python",
   "nbconvert_exporter": "python",
   "pygments_lexer": "ipython3",
   "version": "3.10.12"
  }
 },
 "nbformat": 4,
 "nbformat_minor": 2
}
